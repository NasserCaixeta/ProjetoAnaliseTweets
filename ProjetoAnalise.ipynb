{
 "cells": [
  {
   "cell_type": "code",
   "execution_count": null,
   "metadata": {},
   "outputs": [
    {
     "ename": "",
     "evalue": "",
     "output_type": "error",
     "traceback": [
      "\u001b[1;31mRunning cells with 'Python 3.12.9' requires the ipykernel package.\n",
      "\u001b[1;31mRun the following command to install 'ipykernel' into the Python environment. \n",
      "\u001b[1;31mCommand: 'c:/Users/Administrador/AppData/Local/Microsoft/WindowsApps/python3.12.exe -m pip install ipykernel -U --user --force-reinstall'"
     ]
    }
   ],
   "source": [
    "import tweepy\n",
    "import pandas as pd\n",
    "\n",
    "bearer_token = \"AAAAAAAAAAAAAAAAAAAAAP7P0AEAAAAAv7zQDqeVRg%2B1e2cdWZtJlKAPocI%3Dx3dRoLUNCeAYqv5siuKt64WMeQZ4N2KDnOw30UfH0zQB62thA8\"\n",
    "cliente = tweepy.Client(bearer_token=bearer_token)\n",
    "\n",
    "tweets = cliente.search_recent_tweets(query=\"#governo lang:pt\", max_results=50)\n",
    "dados = pd.DataFrame([tweet.text for tweet in tweets.data], columns=[\"texto\"])\n",
    "dados.to_csv(\"tweets.csv\", index=False)"
   ]
  }
 ],
 "metadata": {
  "kernelspec": {
   "display_name": "Python 3",
   "language": "python",
   "name": "python3"
  },
  "language_info": {
   "name": "python",
   "version": "3.13.2"
  }
 },
 "nbformat": 4,
 "nbformat_minor": 2
}
